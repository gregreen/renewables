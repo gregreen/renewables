{
 "cells": [
  {
   "cell_type": "code",
   "execution_count": 46,
   "metadata": {
    "collapsed": true
   },
   "outputs": [],
   "source": [
    "%matplotlib inline\n",
    "import matplotlib.pyplot as plt\n",
    "import numpy as np\n",
    "import shapely.geometry, shapely.ops\n",
    "import fiona, fiona.crs\n",
    "import pyproj\n",
    "from pprint import pprint\n",
    "\n",
    "from __future__ import print_function, division"
   ]
  },
  {
   "cell_type": "markdown",
   "metadata": {},
   "source": [
    "# Point contained by shapefile?\n",
    "\n",
    "See this Stackoverflow question: http://stackoverflow.com/questions/7861196/check-if-a-geopoint-with-latitude-and-longitude-is-within-a-shapefile.\n",
    "\n",
    "TODO: Initial bounding-box check."
   ]
  },
  {
   "cell_type": "code",
   "execution_count": 61,
   "metadata": {
    "collapsed": false
   },
   "outputs": [
    {
     "name": "stdout",
     "output_type": "stream",
     "text": [
      "POINT (1.18193696945056 0.6045820528908358)\n",
      "POLYGON ((1.068330296086634 0.6222111407903833, 1.086129764039545 0.6155892155960451, 1.099289735506528 0.6179170811540112, 1.102935311866582 0.6258256007762607, 1.116712199273762 0.6284574146848796, 1.126548581209128 0.6337652367726867, 1.130032713193019 0.6477234108815917, 1.144743091825497 0.651098861036837, 1.147477725057483 0.657311312785489, 1.15571138824178 0.6526447585828867, 1.160968702591794 0.6521036042493804, 1.170693245964901 0.6519877070296212, 1.183856825127441 0.6483024460184433, 1.189189901084146 0.6461752585258193, 1.201824050923738 0.6517816174209442, 1.207702790833395 0.6484097749612556, 1.213331697825749 0.6564008206193647, 1.22376515337575 0.6560382472159156, 1.226452886565498 0.6586028677947905, 1.228298222842754 0.6656405799020397, 1.235812150763488 0.67171233152398, 1.245259803502619 0.6677438664116006, 1.24336215563979 0.6624094375690627, 1.248642018087033 0.6615805695149087, 1.247014947390957 0.646917541886612, 1.253925488229833 0.6412020502008967, 1.260006259090665 0.6448692727342907, 1.267752883374807 0.6466018685253999, 1.278629183554394 0.6544156861392858, 1.290648221301568 0.6531295426733194, 1.308647916357875 0.6531020339946995, 1.31175504415609 0.6480936506380989, 1.30159487154451 0.6461355738746953, 1.292722646246675 0.642912548856721, 1.272694524363608 0.6408850239538508, 1.253954349794286 0.6372187033443459, 1.243762609846585 0.6296168378444167, 1.24788891163957 0.6222197090673306, 1.24988396728243 0.6135391425959454, 1.241191224838541 0.6062074033008249, 1.241919979340996 0.599501599184793, 1.237120842326685 0.5932174444869514, 1.220518227374712 0.5937631084399037, 1.227378260475794 0.5822162278487136, 1.216270165856688 0.5777999575253578, 1.20885905725932 0.5672659374617138, 1.20982321389685 0.5567846799455867, 1.202997453903558 0.5518764101406849, 1.196544188476496 0.5535016769889819, 1.183205636079455 0.5512261230165882, 1.181298067053846 0.5463431070805832, 1.168304049582471 0.5463737724928154, 1.158574996589918 0.5364950001346583, 1.157964394116945 0.5216430194515789, 1.13528191022803 0.5143865908012044, 1.12312668197359 0.5159198614128055, 1.119593846099683 0.5120939002749163, 1.109161292473572 0.5143193974714608, 1.091700947902992 0.5117056220406254, 1.062456065796424 0.5206184339134737, 1.078285731975371 0.5364417866251969, 1.076856182611025 0.5476756996268425, 1.063637586091246 0.5506177753533381, 1.062271171399143 0.5616979103318791, 1.056553875865649 0.575631732495776, 1.064017296048589 0.5851885180254967, 1.056420391130051 0.5877648636149313, 1.061215920448805 0.600464853898434, 1.068330296086634 0.6222111407903833))\n",
      "True\n",
      "True\n"
     ]
    }
   ],
   "source": [
    "fname = 'data/naturalearth/110m/cultural/ne_110m_admin_0_countries.shp'\n",
    "with fiona.open(fname) as c:\n",
    "    r = next(iter(c))\n",
    "    shape = shapely.geometry.asShape(r['geometry'])\n",
    "    point = shapely.geometry.Point(67.72, 34.64)\n",
    "    \n",
    "    #print(shape.contains(point))\n",
    "    #print(shape.bounds)\n",
    "    #print(fiona.crs.to_string(c.crs))\n",
    "    p = pyproj.Proj(fiona.crs.to_string(c.crs))\n",
    "    shape = shapely.ops.transform(p, shape)\n",
    "    point = shapely.ops.transform(p, point)\n",
    "    \n",
    "    \n",
    "    print(point)\n",
    "    print(shape)\n",
    "    print(shapely.geometry.box(*shape.bounds).contains(point))\n",
    "    print(shape.contains(point))"
   ]
  },
  {
   "cell_type": "code",
   "execution_count": 62,
   "metadata": {
    "collapsed": true
   },
   "outputs": [],
   "source": [
    "def point_in_shape(c, r, lon, lat):\n",
    "    shape = shapely.geometry.asShape(r['geometry'])\n",
    "    point = shapely.geometry.Point(lon, lat)\n",
    "    \n",
    "    # Project both shape and point into preferred system\n",
    "    p = pyproj.Proj(fiona.crs.to_string(c.crs))\n",
    "    shape = shapely.ops.transform(p, shape)\n",
    "    point = shapely.ops.transform(p, point)\n",
    "    \n",
    "    if shapely.geometry.box(*shape.bounds).contains(point):\n",
    "        if shape.contains(point):\n",
    "            return True\n",
    "    \n",
    "    return False"
   ]
  },
  {
   "cell_type": "code",
   "execution_count": 64,
   "metadata": {
    "collapsed": false
   },
   "outputs": [
    {
     "name": "stdout",
     "output_type": "stream",
     "text": [
      "False\n"
     ]
    }
   ],
   "source": [
    "fname = 'data/naturalearth/110m/cultural/ne_110m_admin_0_countries.shp'\n",
    "with fiona.open(fname) as c:\n",
    "    #r = next(iter(c))\n",
    "    r = c[10]\n",
    "    \n",
    "    lon, lat = 67.72, 34.64\n",
    "    print(point_in_shape(c, r, lon, lat))"
   ]
  },
  {
   "cell_type": "code",
   "execution_count": 73,
   "metadata": {
    "collapsed": true
   },
   "outputs": [],
   "source": [
    "class GeoShape(object):\n",
    "    def __init__(self, fname, idx):\n",
    "        with fiona.open(fname) as c:\n",
    "            r = c[idx]\n",
    "            self.proj = pyproj.Proj(fiona.crs.to_string(c.crs))\n",
    "            shape = shapely.geometry.asShape(r['geometry'])\n",
    "            self.shape = shapely.ops.transform(p, shape)\n",
    "            self.bounds = shapely.geometry.box(*self.shape.bounds)\n",
    "    \n",
    "    def contains(self, lon, lat):\n",
    "        point = shapely.geometry.Point(lon, lat)\n",
    "        point = shapely.ops.transform(p, point)\n",
    "        \n",
    "        if self.bounds.contains(point):\n",
    "            if self.shape.contains(point):\n",
    "                return True\n",
    "        \n",
    "        return False"
   ]
  },
  {
   "cell_type": "code",
   "execution_count": 74,
   "metadata": {
    "collapsed": true
   },
   "outputs": [],
   "source": [
    "gs = GeoShape(fname, 0)"
   ]
  },
  {
   "cell_type": "code",
   "execution_count": 82,
   "metadata": {
    "collapsed": false
   },
   "outputs": [
    {
     "data": {
      "text/plain": [
       "True"
      ]
     },
     "execution_count": 82,
     "metadata": {},
     "output_type": "execute_result"
    }
   ],
   "source": [
    "gs.contains(67.7-360., 1.+34.6)"
   ]
  },
  {
   "cell_type": "code",
   "execution_count": null,
   "metadata": {
    "collapsed": true
   },
   "outputs": [],
   "source": []
  }
 ],
 "metadata": {
  "kernelspec": {
   "display_name": "Python 2",
   "language": "python",
   "name": "python2"
  },
  "language_info": {
   "codemirror_mode": {
    "name": "ipython",
    "version": 2
   },
   "file_extension": ".py",
   "mimetype": "text/x-python",
   "name": "python",
   "nbconvert_exporter": "python",
   "pygments_lexer": "ipython2",
   "version": "2.7.12"
  }
 },
 "nbformat": 4,
 "nbformat_minor": 1
}
